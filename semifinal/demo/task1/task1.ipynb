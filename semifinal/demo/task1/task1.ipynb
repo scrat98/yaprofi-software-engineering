{
  "nbformat": 4,
  "nbformat_minor": 0,
  "metadata": {
    "colab": {
      "name": "Untitled0.ipynb",
      "provenance": [],
      "collapsed_sections": []
    },
    "kernelspec": {
      "name": "python3",
      "display_name": "Python 3"
    },
    "language_info": {
      "name": "python"
    }
  },
  "cells": [
    {
      "cell_type": "markdown",
      "source": [
        "# Введение\n",
        "Чтобы определить тему некоторого текста, нам нужно для начала знать список тем, поэтому первым этапом будет применен метод **тематического моделирования**. Когда список тем у нас есть, то вторым этапом нужно соотнести текст с соответствующей темой - этот процесс называется **тематической классификацией**. В основе подходов лежит NLP(Natural language processing) и LDA(Latent Dirichlet Allocation)."
      ],
      "metadata": {
        "id": "YxbRJCXnzmj-"
      }
    },
    {
      "cell_type": "markdown",
      "source": [
        "# Описание алгоритма\n",
        "\n",
        "## Тематическое моделирование\n",
        "Используется подход \"мешок слов\". В каждом документе считается частота появления слов и затем документы группируются по общим словам. Перед тем как считать статистику слов нужно применить \"очистку\" текста, чтобы игнорировать синтаксис и семантику языка. На выходе мы получаем набор тем и группу соотвествующих темам документов. В данном случае тема - это набор ключевых слов и дальше этому набору можно дать название.\n",
        "\n",
        "## Тематическая классификация\n",
        "На этом шаге мы знаем все темы и применяется также LDA, чтобы соотнести документ с выбранной темой."
      ],
      "metadata": {
        "id": "FjkX-sgzzrml"
      }
    },
    {
      "cell_type": "markdown",
      "source": [
        "# Способ вычисления ошибки\n",
        "Для вычисления ошибки будем использовать процент соотношение верно классифицированных документов к неверно классифицированным. Замеры будут производиться на наборе документов отличным от набора для обучения."
      ],
      "metadata": {
        "id": "URJgRcVrztXr"
      }
    },
    {
      "cell_type": "markdown",
      "source": [
        "# Требования к ПО\n",
        "gensim - библиотека, для выполнения LDA и LSA   \n",
        "nltm - библиотека, для выполнения NLP"
      ],
      "metadata": {
        "id": "1JyjNfe7zvU4"
      }
    },
    {
      "cell_type": "markdown",
      "source": [
        "# Программная реализация\n"
      ],
      "metadata": {
        "id": "MvTy7nLxzzoB"
      }
    },
    {
      "cell_type": "code",
      "source": [
        "!pip install nltk\n",
        "!pip install sklearn\n",
        "!pip install gensim"
      ],
      "metadata": {
        "colab": {
          "base_uri": "https://localhost:8080/"
        },
        "id": "Wp7pVwg3K3Lh",
        "outputId": "9b465de0-abe2-4243-977e-a2f3c11b30d0"
      },
      "execution_count": 5,
      "outputs": [
        {
          "output_type": "stream",
          "name": "stdout",
          "text": [
            "Requirement already satisfied: nltk in /usr/local/lib/python3.7/dist-packages (3.2.5)\n",
            "Requirement already satisfied: six in /usr/local/lib/python3.7/dist-packages (from nltk) (1.15.0)\n",
            "Requirement already satisfied: sklearn in /usr/local/lib/python3.7/dist-packages (0.0)\n",
            "Requirement already satisfied: scikit-learn in /usr/local/lib/python3.7/dist-packages (from sklearn) (1.0.2)\n",
            "Requirement already satisfied: threadpoolctl>=2.0.0 in /usr/local/lib/python3.7/dist-packages (from scikit-learn->sklearn) (3.1.0)\n",
            "Requirement already satisfied: joblib>=0.11 in /usr/local/lib/python3.7/dist-packages (from scikit-learn->sklearn) (1.1.0)\n",
            "Requirement already satisfied: scipy>=1.1.0 in /usr/local/lib/python3.7/dist-packages (from scikit-learn->sklearn) (1.4.1)\n",
            "Requirement already satisfied: numpy>=1.14.6 in /usr/local/lib/python3.7/dist-packages (from scikit-learn->sklearn) (1.21.5)\n",
            "Requirement already satisfied: gensim in /usr/local/lib/python3.7/dist-packages (3.6.0)\n",
            "Requirement already satisfied: smart-open>=1.2.1 in /usr/local/lib/python3.7/dist-packages (from gensim) (5.2.1)\n",
            "Requirement already satisfied: six>=1.5.0 in /usr/local/lib/python3.7/dist-packages (from gensim) (1.15.0)\n",
            "Requirement already satisfied: numpy>=1.11.3 in /usr/local/lib/python3.7/dist-packages (from gensim) (1.21.5)\n",
            "Requirement already satisfied: scipy>=0.18.1 in /usr/local/lib/python3.7/dist-packages (from gensim) (1.4.1)\n"
          ]
        }
      ]
    },
    {
      "cell_type": "code",
      "source": [
        "https://github.com/priya-dwivedi/Deep-Learning/blob/master/topic_modeling/LDA_Newsgroup.ipynb\n",
        "https://monkeylearn.com/topic-analysis/"
      ],
      "metadata": {
        "id": "RaGFUoDqK5qm"
      },
      "execution_count": null,
      "outputs": []
    },
    {
      "cell_type": "markdown",
      "source": [
        "# Тестирование\n"
      ],
      "metadata": {
        "id": "bWk0Gdj4z2po"
      }
    },
    {
      "cell_type": "markdown",
      "source": [
        "# Заключение"
      ],
      "metadata": {
        "id": "mythwr0Oz5Fc"
      }
    }
  ]
}